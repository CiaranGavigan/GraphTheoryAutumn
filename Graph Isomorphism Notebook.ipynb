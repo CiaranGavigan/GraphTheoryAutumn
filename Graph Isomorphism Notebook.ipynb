{
 "cells": [
  {
   "attachments": {
    "image.png": {
     "image/png": "[encoded data removed]"
    }
   },
   "cell_type": "markdown",
   "id": "31d342e4",
   "metadata": {},
   "source": [
    "# Graph Isomorphism Notebook\n",
    "\n",
    "\n",
    "## Definition of Graph Isomorphism\n",
    "\n",
    "Explanation Refference https://mathworld.wolfram.com/IsomorphicGraphs.html\n",
    "\n",
    "* Two graphs which contain the same number of graph vertices connected in the same way are said to be isomorphic. Formally, two graphs G and H with graph vertices V_n={1,2,...,n} are said to be isomorphic if there is a permutation p of V_n such that {u,v} is in the set of graph edges E(G) iff {p(u),p(v)} is in the set of graph edges E(H).\n",
    "\n",
    "\n",
    "\n",
    "\n",
    "## Specification of the Graph Isomorphic Problem\n",
    "\n",
    "Explanation Refference https://stars.library.ucf.edu/cgi/viewcontent.cgi?article=1105&context=istlibrary&httpsredir=1&referer=\n",
    "\n",
    "\n",
    "* The Graph Isomorphic Problem is an algorithmic problem that has been studied from the early days of computing.\n",
    "* The main elements of the problem is finding out if to graphs are structurally the same graph or if its isomorphic.\n",
    "* The complexity of the problem is unsolved and its unknown whether this problem can be solved quickly (ie. in polynomial time) or whether the problem belongs to a class of difficult problems(NP-Complete).\n",
    "\n",
    "* For Two Graphs to be isomorphic they must meet four conditions.\n",
    "    * The number of vertices in both graphs are the same.\n",
    "    * The number of Edges in both graphs are the same.\n",
    "    * The same degree sequence \n",
    "    * The same number of circuit of particular length \n",
    "   \n",
    "Explanation Refference https://www.geeksforgeeks.org/mathematics-graph-isomorphisms-connectivity/\n",
    "\n",
    "\n",
    "\n",
    "\n",
    "\n",
    "![image.png](attachment:image.png)\n",
    "\n",
    "Before we can find out if these two graphs are isomorphic we need to check to see if all the conditions are met.\n",
    "\n",
    "1. Check the number of vertices in the graphs.\n",
    "   * G1 has 8 vertices.\n",
    "   * G2 has 8 vertices.\n",
    " \n",
    "Both G1 and G2 have the same number of vertices so condition 1 is satisfied.\n",
    "\n",
    "2. Check the number of edges in the graphs.\n",
    "    * G1 has 10 edges.\n",
    "    * G2 has 10 edges.\n",
    "Both G1 and G2 have the same number of edges so condition 2 is satisfied.\n",
    "\n",
    "3. Check the degree sequence of both graphs.\n",
    "    * Degree Sequence of G1 = {2,2,2,2,3,3,3,3}.\n",
    "    * Degree Sequence of G2 = {2,2,2,2,3,3,3,3}.\n",
    "Both G1 and G2 have the same degree sequence so condition 3 is satisfied.\n",
    "\n",
    "4. Check the length of cycle in the graphs.\n",
    "    * In G1, degree-3 vertices from a cycle of length 4.\n",
    "    * In G2, degree-3 vertices do not form a 4-cycle length as the vertices are not adjacent.\n",
    "Both G1 and G2 do not contain the same cycles in them.\n",
    "\n",
    "Since condition 4 violates the conditions the two graphs can not be Isomorphic.\n",
    "\n",
    "\n",
    "\n",
    "\n",
    "\n",
    " Refference https://www.gatevidyalay.com/graph-isomorphism/\n",
    " \n",
    "\n",
    "\n",
    "\n",
    "\n",
    "\n"
   ]
  },
  {
   "cell_type": "code",
   "execution_count": null,
   "id": "99333831",
   "metadata": {},
   "outputs": [],
   "source": []
  }
 ],
 "metadata": {
  "kernelspec": {
   "display_name": "Python 3 (ipykernel)",
   "language": "python",
   "name": "python3"
  },
  "language_info": {
   "codemirror_mode": {
    "name": "ipython",
    "version": 3
   },
   "file_extension": ".py",
   "mimetype": "text/x-python",
   "name": "python",
   "nbconvert_exporter": "python",
   "pygments_lexer": "ipython3",
   "version": "3.9.7"
  }
 },
 "nbformat": 4,
 "nbformat_minor": 5
}
